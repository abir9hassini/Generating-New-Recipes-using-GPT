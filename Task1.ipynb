{
 "cells": [
  {
   "cell_type": "markdown",
   "metadata": {},
   "source": [
    "# Using Natural Language Processing to Generate New Recipes in Python\n",
    "Welcome to this project! We will be finetuning a distilled version of GPT-2 on a smaller-scale dataset comprising recipes. The recipes are split into ingredients and instructions. Can we use GPT-2 to generate instructions from a list of ingredients?\n",
    "\n",
    "## Prerequisites\n",
    "- Intermediate-level knowledge of Python\n",
    "- Basic UNIX/Bash skills for launching scripts\n",
    "- A Google account (if you'd like to launch a finetuning instance on Google Colab)\n",
    "- Basic knowledge of neural networks and deep learning (knowledge about large-scale models like BERT and GPT-2 will be preferred, but is not necessary)\n",
    "- Some basic Natural Language Processing (NLP) experience will be beneficial\n",
    "\n",
    "## Task 1: Introduction\n",
    "[This is the dataset](https://eightportions.com/datasets/Recipes/#fn:1) we will be using. It is collated by Ryan Lee, sourced from [Food Network](https://www.foodnetwork.com/), [Epicurious](https://www.epicurious.com/), and [Allrecipes](https://www.allrecipes.com/).\n",
    "\n",
    "### Sample\n",
    "*Herb Rubbed Sirloin Tip Roast*\n",
    "\n",
    "- 1 1/4 tablespoons paprika\n",
    "- 1 tablespoon kosher salt\n",
    "- 1 teaspoon garlic powder\n",
    "- 1/2 teaspoon ground black pepper\n",
    "- 1/2 teaspoon onion powder\n",
    "- 1/2 teaspoon ground cayenne pepper\n",
    "- 1/2 teaspoon dried oregano\n",
    "- 1/2 teaspoon dried thyme\n",
    "- 2 tablespoons olive oil\n",
    "- 1 (3 pound) sirloin tip roast\n",
    "\n",
    "In a small bowl, mix the paprika, kosher salt, garlic powder, black pepper, onion powder, cayenne pepper, oregano, and thyme. Stir in the olive oil, and allow the mixture to sit about 15 minutes.\n",
    "\n",
    "Preheat oven to 350 degrees F (175 degrees C). Line a baking sheet with aluminum foil.\n",
    "\n",
    "Place the roast on the prepared baking sheet, and cover on all sides with the spice mixture.\n",
    "\n",
    "Roast 1 hour in the preheated oven, or to a minimum internal temperature of 145 degrees F (63 degrees C). Let sit 15 minutes before slicing."
   ]
  },
  {
   "cell_type": "code",
   "execution_count": null,
   "metadata": {},
   "outputs": [
    {
     "name": "stdout",
     "output_type": "stream",
     "text": [
      "fatal: destination path 'transformers' already exists and is not an empty directory.\n",
      "/bin/sh: 1: pip: not found\n"
     ]
    }
   ],
   "source": [
    "!git clone https://github.com/huggingface/transformers; cd transformers; pip install ."
   ]
  },
  {
   "cell_type": "code",
   "execution_count": 9,
   "metadata": {},
   "outputs": [
    {
     "name": "stdout",
     "output_type": "stream",
     "text": [
      "Processing /home/rhyme/Desktop/Project/transformers\n",
      "Collecting numpy (from transformers==3.0.2)\n",
      "  Using cached https://files.pythonhosted.org/packages/45/b2/6c7545bb7a38754d63048c7696804a0d947328125d81bf12beaa692c3ae3/numpy-1.19.5-cp36-cp36m-manylinux1_x86_64.whl\n",
      "Collecting tokenizers==0.8.1.rc2 (from transformers==3.0.2)\n",
      "  Using cached https://files.pythonhosted.org/packages/80/83/8b9fccb9e48eeb575ee19179e2bdde0ee9a1904f97de5f02d19016b8804f/tokenizers-0.8.1rc2-cp36-cp36m-manylinux1_x86_64.whl\n",
      "Collecting packaging (from transformers==3.0.2)\n",
      "  Using cached https://files.pythonhosted.org/packages/05/8e/8de486cbd03baba4deef4142bd643a3e7bbe954a784dc1bb17142572d127/packaging-21.3-py3-none-any.whl\n",
      "Collecting filelock (from transformers==3.0.2)\n",
      "  Using cached https://files.pythonhosted.org/packages/84/ce/8916d10ef537f3f3b046843255f9799504aa41862bfa87844b9bdc5361cd/filelock-3.4.1-py3-none-any.whl\n",
      "Collecting requests (from transformers==3.0.2)\n",
      "  Using cached https://files.pythonhosted.org/packages/2d/61/08076519c80041bc0ffa1a8af0cbd3bf3e2b62af10435d269a9d0f40564d/requests-2.27.1-py2.py3-none-any.whl\n",
      "Collecting tqdm>=4.27 (from transformers==3.0.2)\n",
      "  Using cached https://files.pythonhosted.org/packages/47/bb/849011636c4da2e44f1253cd927cfb20ada4374d8b3a4e425416e84900cc/tqdm-4.64.1-py2.py3-none-any.whl\n",
      "Collecting regex!=2019.12.17 (from transformers==3.0.2)\n",
      "  Using cached https://files.pythonhosted.org/packages/fd/75/ed64d258199c5ea90be0b6f772a7e3d408e794f54236afa0f28e1db384d6/regex-2023.8.8-cp36-cp36m-manylinux_2_5_x86_64.manylinux1_x86_64.manylinux_2_12_x86_64.manylinux2010_x86_64.whl\n",
      "Collecting sentencepiece!=0.1.92 (from transformers==3.0.2)\n",
      "  Using cached https://files.pythonhosted.org/packages/d8/87/b37ebc960d0a85e10785a1a92d796edbd975840bee150a9ae3ba5d7a0250/sentencepiece-0.1.99.tar.gz\n",
      "Collecting sacremoses (from transformers==3.0.2)\n",
      "Collecting dataclasses (from transformers==3.0.2)\n",
      "  Using cached https://files.pythonhosted.org/packages/fe/ca/75fac5856ab5cfa51bbbcefa250182e50441074fdc3f803f6e76451fab43/dataclasses-0.8-py3-none-any.whl\n",
      "Collecting pyparsing!=3.0.5,>=2.0.2 (from packaging->transformers==3.0.2)\n",
      "  Using cached https://files.pythonhosted.org/packages/39/92/8486ede85fcc088f1b3dba4ce92dd29d126fd96b0008ea213167940a2475/pyparsing-3.1.1-py3-none-any.whl\n",
      "Collecting urllib3<1.27,>=1.21.1 (from requests->transformers==3.0.2)\n",
      "  Using cached https://files.pythonhosted.org/packages/48/fe/a5c6cc46e9fe9171d7ecf0f33ee7aae14642f8d74baa7af4d7840f9358be/urllib3-1.26.17-py2.py3-none-any.whl\n",
      "Collecting charset-normalizer~=2.0.0; python_version >= \"3\" (from requests->transformers==3.0.2)\n",
      "  Using cached https://files.pythonhosted.org/packages/06/b3/24afc8868eba069a7f03650ac750a778862dc34941a4bebeb58706715726/charset_normalizer-2.0.12-py3-none-any.whl\n",
      "Collecting certifi>=2017.4.17 (from requests->transformers==3.0.2)\n",
      "  Using cached https://files.pythonhosted.org/packages/4c/dd/2234eab22353ffc7d94e8d13177aaa050113286e93e7b40eae01fbf7c3d9/certifi-2023.7.22-py3-none-any.whl\n",
      "Collecting idna<4,>=2.5; python_version >= \"3\" (from requests->transformers==3.0.2)\n",
      "  Using cached https://files.pythonhosted.org/packages/fc/34/3030de6f1370931b9dbb4dad48f6ab1015ab1d32447850b9fc94e60097be/idna-3.4-py3-none-any.whl\n",
      "Collecting importlib-resources; python_version < \"3.7\" (from tqdm>=4.27->transformers==3.0.2)\n",
      "  Using cached https://files.pythonhosted.org/packages/24/1b/33e489669a94da3ef4562938cd306e8fa915e13939d7b8277cb5569cb405/importlib_resources-5.4.0-py3-none-any.whl\n",
      "Collecting click (from sacremoses->transformers==3.0.2)\n",
      "  Using cached https://files.pythonhosted.org/packages/4a/a8/0b2ced25639fb20cc1c9784de90a8c25f9504a7f18cd8b5397bd61696d7d/click-8.0.4-py3-none-any.whl\n",
      "Collecting joblib (from sacremoses->transformers==3.0.2)\n",
      "  Using cached https://files.pythonhosted.org/packages/7c/91/d3ba0401e62d7e42816bc7d97b82d19c95c164b3e149a87c0a1c026a735e/joblib-1.1.1-py2.py3-none-any.whl\n",
      "Collecting six (from sacremoses->transformers==3.0.2)\n",
      "  Using cached https://files.pythonhosted.org/packages/d9/5a/e7c31adbe875f2abbb91bd84cf2dc52d792b5a01506781dbcf25c91daf11/six-1.16.0-py2.py3-none-any.whl\n",
      "Collecting zipp>=3.1.0; python_version < \"3.10\" (from importlib-resources; python_version < \"3.7\"->tqdm>=4.27->transformers==3.0.2)\n",
      "  Using cached https://files.pythonhosted.org/packages/bd/df/d4a4974a3e3957fd1c1fa3082366d7fff6e428ddb55f074bf64876f8e8ad/zipp-3.6.0-py3-none-any.whl\n",
      "Collecting importlib-metadata; python_version < \"3.8\" (from click->sacremoses->transformers==3.0.2)\n",
      "  Using cached https://files.pythonhosted.org/packages/a0/a1/b153a0a4caf7a7e3f15c2cd56c7702e2cf3d89b1b359d1f1c5e59d68f4ce/importlib_metadata-4.8.3-py3-none-any.whl\n",
      "Collecting typing-extensions>=3.6.4; python_version < \"3.8\" (from importlib-metadata; python_version < \"3.8\"->click->sacremoses->transformers==3.0.2)\n",
      "  Using cached https://files.pythonhosted.org/packages/45/6b/44f7f8f1e110027cf88956b59f2fad776cca7e1704396d043f89effd3a0e/typing_extensions-4.1.1-py3-none-any.whl\n",
      "Building wheels for collected packages: sentencepiece\n",
      "  Running setup.py bdist_wheel for sentencepiece ... \u001b[?25lerror\n",
      "  Complete output from command /usr/bin/python3 -u -c \"import setuptools, tokenize;__file__='/tmp/pip-build-0fyi08g7/sentencepiece/setup.py';f=getattr(tokenize, 'open', open)(__file__);code=f.read().replace('\\r\\n', '\\n');f.close();exec(compile(code, __file__, 'exec'))\" bdist_wheel -d /tmp/tmpld0iznkkpip-wheel- --python-tag cp36:\n",
      "  running bdist_wheel\n",
      "  running build\n",
      "  running build_py\n",
      "  creating build\n",
      "  creating build/lib.linux-x86_64-3.6\n",
      "  creating build/lib.linux-x86_64-3.6/sentencepiece\n",
      "  copying src/sentencepiece/__init__.py -> build/lib.linux-x86_64-3.6/sentencepiece\n",
      "  copying src/sentencepiece/_version.py -> build/lib.linux-x86_64-3.6/sentencepiece\n",
      "  copying src/sentencepiece/sentencepiece_model_pb2.py -> build/lib.linux-x86_64-3.6/sentencepiece\n",
      "  copying src/sentencepiece/sentencepiece_pb2.py -> build/lib.linux-x86_64-3.6/sentencepiece\n",
      "  running build_ext\n",
      "  Package sentencepiece was not found in the pkg-config search path.\n",
      "  Perhaps you should add the directory containing `sentencepiece.pc'\n",
      "  to the PKG_CONFIG_PATH environment variable\n",
      "  No package 'sentencepiece' found\n",
      "  ./build_bundled.sh: 21: ./build_bundled.sh: cmake: not found\n",
      "  ./build_bundled.sh: 22: ./build_bundled.sh: cmake: not found\n",
      "  Traceback (most recent call last):\n",
      "    File \"<string>\", line 1, in <module>\n",
      "    File \"/tmp/pip-build-0fyi08g7/sentencepiece/setup.py\", line 198, in <module>\n",
      "      test_suite='sentencepiece_test.suite',\n",
      "    File \"/home/rhyme/.local/lib/python3.6/site-packages/setuptools/__init__.py\", line 144, in setup\n",
      "      return distutils.core.setup(**attrs)\n",
      "    File \"/usr/lib/python3.6/distutils/core.py\", line 148, in setup\n",
      "      dist.run_commands()\n",
      "    File \"/usr/lib/python3.6/distutils/dist.py\", line 955, in run_commands\n",
      "      self.run_command(cmd)\n",
      "    File \"/usr/lib/python3.6/distutils/dist.py\", line 974, in run_command\n",
      "      cmd_obj.run()\n",
      "    File \"/usr/lib/python3/dist-packages/wheel/bdist_wheel.py\", line 204, in run\n",
      "      self.run_command('build')\n",
      "    File \"/usr/lib/python3.6/distutils/cmd.py\", line 313, in run_command\n",
      "      self.distribution.run_command(command)\n",
      "    File \"/usr/lib/python3.6/distutils/dist.py\", line 974, in run_command\n",
      "      cmd_obj.run()\n",
      "    File \"/usr/lib/python3.6/distutils/command/build.py\", line 135, in run\n",
      "      self.run_command(cmd_name)\n",
      "    File \"/usr/lib/python3.6/distutils/cmd.py\", line 313, in run_command\n",
      "      self.distribution.run_command(command)\n",
      "    File \"/usr/lib/python3.6/distutils/dist.py\", line 974, in run_command\n",
      "      cmd_obj.run()\n",
      "    File \"/home/rhyme/.local/lib/python3.6/site-packages/setuptools/command/build_ext.py\", line 87, in run\n",
      "      _build_ext.run(self)\n",
      "    File \"/usr/lib/python3.6/distutils/command/build_ext.py\", line 339, in run\n",
      "      self.build_extensions()\n",
      "    File \"/usr/lib/python3.6/distutils/command/build_ext.py\", line 448, in build_extensions\n",
      "      self._build_extensions_serial()\n",
      "    File \"/usr/lib/python3.6/distutils/command/build_ext.py\", line 473, in _build_extensions_serial\n",
      "      self.build_extension(ext)\n",
      "    File \"/tmp/pip-build-0fyi08g7/sentencepiece/setup.py\", line 87, in build_extension\n",
      "      subprocess.check_call(['./build_bundled.sh', __version__])\n",
      "    File \"/usr/lib/python3.6/subprocess.py\", line 311, in check_call\n",
      "      raise CalledProcessError(retcode, cmd)\n",
      "  subprocess.CalledProcessError: Command '['./build_bundled.sh', '0.1.99']' returned non-zero exit status 127.\n",
      "  \n",
      "  ----------------------------------------\n",
      "\u001b[31m  Failed building wheel for sentencepiece\u001b[0m\n",
      "\u001b[?25h  Running setup.py clean for sentencepiece\n",
      "Failed to build sentencepiece\n",
      "Installing collected packages: numpy, tokenizers, pyparsing, packaging, filelock, urllib3, charset-normalizer, certifi, idna, requests, zipp, importlib-resources, tqdm, regex, sentencepiece, typing-extensions, importlib-metadata, click, joblib, six, sacremoses, dataclasses, transformers\n",
      "  Running setup.py install for sentencepiece ... \u001b[?25lerror\n",
      "    Complete output from command /usr/bin/python3 -u -c \"import setuptools, tokenize;__file__='/tmp/pip-build-0fyi08g7/sentencepiece/setup.py';f=getattr(tokenize, 'open', open)(__file__);code=f.read().replace('\\r\\n', '\\n');f.close();exec(compile(code, __file__, 'exec'))\" install --record /tmp/pip-o86ds07u-record/install-record.txt --single-version-externally-managed --compile --user --prefix=:\n",
      "    running install\n",
      "    running build\n",
      "    running build_py\n",
      "    creating build\n",
      "    creating build/lib.linux-x86_64-3.6\n",
      "    creating build/lib.linux-x86_64-3.6/sentencepiece\n",
      "    copying src/sentencepiece/__init__.py -> build/lib.linux-x86_64-3.6/sentencepiece\n",
      "    copying src/sentencepiece/_version.py -> build/lib.linux-x86_64-3.6/sentencepiece\n",
      "    copying src/sentencepiece/sentencepiece_model_pb2.py -> build/lib.linux-x86_64-3.6/sentencepiece\n",
      "    copying src/sentencepiece/sentencepiece_pb2.py -> build/lib.linux-x86_64-3.6/sentencepiece\n",
      "    running build_ext\n",
      "    Package sentencepiece was not found in the pkg-config search path.\n",
      "    Perhaps you should add the directory containing `sentencepiece.pc'\n",
      "    to the PKG_CONFIG_PATH environment variable\n",
      "    No package 'sentencepiece' found\n",
      "    ./build_bundled.sh: 21: ./build_bundled.sh: cmake: not found\n",
      "    ./build_bundled.sh: 22: ./build_bundled.sh: cmake: not found\n",
      "    Traceback (most recent call last):\n",
      "      File \"<string>\", line 1, in <module>\n",
      "      File \"/tmp/pip-build-0fyi08g7/sentencepiece/setup.py\", line 198, in <module>\n",
      "        test_suite='sentencepiece_test.suite',\n",
      "      File \"/home/rhyme/.local/lib/python3.6/site-packages/setuptools/__init__.py\", line 144, in setup\n",
      "        return distutils.core.setup(**attrs)\n",
      "      File \"/usr/lib/python3.6/distutils/core.py\", line 148, in setup\n",
      "        dist.run_commands()\n",
      "      File \"/usr/lib/python3.6/distutils/dist.py\", line 955, in run_commands\n",
      "        self.run_command(cmd)\n",
      "      File \"/usr/lib/python3.6/distutils/dist.py\", line 974, in run_command\n",
      "        cmd_obj.run()\n",
      "      File \"/home/rhyme/.local/lib/python3.6/site-packages/setuptools/command/install.py\", line 61, in run\n",
      "        return orig.install.run(self)\n",
      "      File \"/usr/lib/python3.6/distutils/command/install.py\", line 589, in run\n",
      "        self.run_command('build')\n",
      "      File \"/usr/lib/python3.6/distutils/cmd.py\", line 313, in run_command\n",
      "        self.distribution.run_command(command)\n",
      "      File \"/usr/lib/python3.6/distutils/dist.py\", line 974, in run_command\n",
      "        cmd_obj.run()\n",
      "      File \"/usr/lib/python3.6/distutils/command/build.py\", line 135, in run\n",
      "        self.run_command(cmd_name)\n",
      "      File \"/usr/lib/python3.6/distutils/cmd.py\", line 313, in run_command\n",
      "        self.distribution.run_command(command)\n",
      "      File \"/usr/lib/python3.6/distutils/dist.py\", line 974, in run_command\n",
      "        cmd_obj.run()\n",
      "      File \"/home/rhyme/.local/lib/python3.6/site-packages/setuptools/command/build_ext.py\", line 87, in run\n",
      "        _build_ext.run(self)\n",
      "      File \"/usr/lib/python3.6/distutils/command/build_ext.py\", line 339, in run\n",
      "        self.build_extensions()\n",
      "      File \"/usr/lib/python3.6/distutils/command/build_ext.py\", line 448, in build_extensions\n",
      "        self._build_extensions_serial()\n",
      "      File \"/usr/lib/python3.6/distutils/command/build_ext.py\", line 473, in _build_extensions_serial\n",
      "        self.build_extension(ext)\n",
      "      File \"/tmp/pip-build-0fyi08g7/sentencepiece/setup.py\", line 87, in build_extension\n",
      "        subprocess.check_call(['./build_bundled.sh', __version__])\n",
      "      File \"/usr/lib/python3.6/subprocess.py\", line 311, in check_call\n",
      "        raise CalledProcessError(retcode, cmd)\n",
      "    subprocess.CalledProcessError: Command '['./build_bundled.sh', '0.1.99']' returned non-zero exit status 127.\n",
      "    \n",
      "    ----------------------------------------\n",
      "\u001b[31mCommand \"/usr/bin/python3 -u -c \"import setuptools, tokenize;__file__='/tmp/pip-build-0fyi08g7/sentencepiece/setup.py';f=getattr(tokenize, 'open', open)(__file__);code=f.read().replace('\\r\\n', '\\n');f.close();exec(compile(code, __file__, 'exec'))\" install --record /tmp/pip-o86ds07u-record/install-record.txt --single-version-externally-managed --compile --user --prefix=\" failed with error code 1 in /tmp/pip-build-0fyi08g7/sentencepiece/\u001b[0m\n",
      "\u001b[?25h"
     ]
    }
   ],
   "source": [
    "!cd transformers; pip3 install ."
   ]
  },
  {
   "cell_type": "code",
   "execution_count": 11,
   "metadata": {},
   "outputs": [
    {
     "name": "stderr",
     "output_type": "stream",
     "text": [
      "Setting `pad_token_id` to 50256 (first `eos_token_id`) to generate sequence\n"
     ]
    },
    {
     "name": "stdout",
     "output_type": "stream",
     "text": [
      "------------------\n",
      "Generated Output\n",
      "------------------\n",
      "ingredients: 1 cup flour \n",
      " 1 cup sugar \n",
      " lamb \n",
      "  1 cup oil \n",
      " instructions: \n",
      " Preheat oven to 450 degrees F. Rub ground lamb with 1 teaspoon salt and 1 teaspoon pepper. Transfer lamb to a roasting pan and roast until browned and very soft. Let rest 10 minutes. In a large Dutch oven heat the oil over medium-high heat. Brown the lamb on all sides, about 8 to 10 minutes. Transfer to a plate and set aside. Add the onion to the Dutch oven. Stir in the flour and cook for 3 to 4 minutes. Stir in the red wine, scraping up any browned bits on the bottom of the pot. Reduce the heat to medium low and cook, stirring occasionally, until thickened, about 10 minutes. Add the tomatoes and stir to coat. Reduce heat to medium low and cook, stirring occasionally, until thickened, about 30 minutes. In a small bowl, combine the tahini, curry powder, cinnamon and salt and pepper. Add the lamb, lemon juice and olive oil to the pot and bring to a simmer. Simmer for 5 minutes, stirring occasionally. Remove from heat and stir in the raisins. Cover and let stand for 15 minutes. Uncover the pot and turn off the heat. Serve. \n"
     ]
    }
   ],
   "source": [
    "from model_demo import demo\n",
    "demo('ingredients: 1 cup flour \\n 1 cup sugar \\n lamb \\n  1 cup oil \\n instructions:')"
   ]
  },
  {
   "cell_type": "code",
   "execution_count": null,
   "metadata": {},
   "outputs": [],
   "source": []
  },
  {
   "cell_type": "code",
   "execution_count": null,
   "metadata": {},
   "outputs": [],
   "source": []
  },
  {
   "cell_type": "code",
   "execution_count": null,
   "metadata": {},
   "outputs": [],
   "source": []
  },
  {
   "cell_type": "code",
   "execution_count": null,
   "metadata": {},
   "outputs": [],
   "source": []
  },
  {
   "cell_type": "code",
   "execution_count": null,
   "metadata": {},
   "outputs": [],
   "source": []
  },
  {
   "cell_type": "code",
   "execution_count": null,
   "metadata": {},
   "outputs": [],
   "source": []
  },
  {
   "cell_type": "code",
   "execution_count": null,
   "metadata": {},
   "outputs": [],
   "source": []
  },
  {
   "cell_type": "code",
   "execution_count": null,
   "metadata": {},
   "outputs": [],
   "source": []
  },
  {
   "cell_type": "code",
   "execution_count": null,
   "metadata": {
    "collapsed": true,
    "jupyter": {
     "outputs_hidden": true
    }
   },
   "outputs": [],
   "source": []
  }
 ],
 "metadata": {
  "kernelspec": {
   "display_name": "Python 3",
   "language": "python",
   "name": "python3"
  },
  "language_info": {
   "codemirror_mode": {
    "name": "ipython",
    "version": 3
   },
   "file_extension": ".py",
   "mimetype": "text/x-python",
   "name": "python",
   "nbconvert_exporter": "python",
   "pygments_lexer": "ipython3",
   "version": "3.10.0"
  }
 },
 "nbformat": 4,
 "nbformat_minor": 4
}
