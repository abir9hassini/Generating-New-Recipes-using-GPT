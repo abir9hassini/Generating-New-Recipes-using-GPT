   "output_type": "stream",
     "text": [
      " \n",
      "\n",
      " Ingredients: \n",
      " 1/2 cup butter, melted  \n",
      " 2 eggs, beaten  \n",
      " 1 (8.5 ounce) package dry corn bread mix  \n",
      " 1 (15 ounce) can whole kernel corn, drained  \n",
      " 1 (14.75 ounce) can creamed corn  \n",
      " 1 cup sour cream  \n",
      "  \n",
      " \n"
     ]
    }
   ],
   "source": [
    "print(prompt_text)"
   ]
  },
  {
   "cell_type": "code",
   "execution_count": 16,
   "metadata": {},
   "outputs": [],
   "source": [
    "encoded_prompt = tokenizer.encode(\n",
    "    prompt_text,\n",
    "    add_special_tokens = False,\n",
    "    return_tensors='pt'\n",
    ")"
   ]
  },
  {
   "cell_type": "code",
   "execution_count": 18,
   "metadata": {},
   "outputs": [
    {
     "name": "stderr",
     "output_type": "stream",
     "text": [
      "Setting `pad_token_id` to 50256 (first `eos_token_id`) to generate sequence\n"
     ]
    }
   ],
   "source": [
    "output_sequences = model.generate(\n",
    "    input_ids = encoded_prompt,\n",
    "    max_length=700,\n",
    "    temperature=0.9,\n",
    "    top_k=20,\n",
    "    top_p=0.9,\n",
    "    repetition_penality=1,\n",
    "    do_sample=True,\n",
    "    num_return_sequences=4,\n",
    ")"
   ]
  },
  {
   "cell_type": "code",
   "execution_count": 19,
   "metadata": {},
   "outputs": [
    {
     "name": "stdout",
     "output_type": "stream",
     "text": [
      "----------\n",
      "generated output #1\n",
      "---\n",
      " \n",
      "\n",
      " Ingredients: \n",
      " 1/2 cup butter, melted  \n",
      " 2 eggs, beaten  \n",
      " 1 (8.5 ounce) package dry corn bread mix  \n",
      " 1 (15 ounce) can whole kernel corn, drained  \n",
      " 1 (14.75 ounce) can creamed corn  \n",
      " 1 cup sour cream  \n",
      "  \n",
      " \n",
      " Instructions: \n",
      " Preheat oven to 350 degrees F (175 degrees C). Beat the butter and eggs together in a bowl using an electric mixer until smooth. Mix in the corn bread mix, corn, creamed corn, sour cream, and salt. Spread the mixture into a 9x13 inch baking dish. Bake in preheated oven until the top of the casserole is golden brown and the filling is bubbly, about 30 minutes. Cool for at least 30 minutes before serving.  \n",
      "----------\n",
      "generated output #2\n",
      "---\n",
      " \n",
      "\n",
      " Ingredients: \n",
      " 1/2 cup butter, melted  \n",
      " 2 eggs, beaten  \n",
      " 1 (8.5 ounce) package dry corn bread mix  \n",
      " 1 (15 ounce) can whole kernel corn, drained  \n",
      " 1 (14.75 ounce) can creamed corn  \n",
      " 1 cup sour cream  \n",
      "  \n",
      " \n",
      " Instructions: \n",
      " Preheat oven to 350 degrees F (175 degrees C). Grease a 9x13-inch baking dish. In a large bowl, mix together the melted butter, eggs, and corn bread mix. Stir in the whole kernel corn, creamed corn, sour cream, and butter mixture. Spread the mixture into the prepared baking dish. Bake for 30 to 35 minutes in the preheated oven, or until set.  \n",
      "----------\n",
      "generated output #3\n",
      "---\n",
      " \n",
      "\n",
      " Ingredients: \n",
      " 1/2 cup butter, melted  \n",
      " 2 eggs, beaten  \n",
      " 1 (8.5 ounce) package dry corn bread mix  \n",
      " 1 (15 ounce) can whole kernel corn, drained  \n",
      " 1 (14.75 ounce) can creamed corn  \n",
      " 1 cup sour cream  \n",
      "  \n",
      " \n",
      " Instructions: \n",
      " In a large bowl, mix together butter, eggs, corn bread mix, and corn. Stir in sour cream. Drop batter by large spoonfuls onto prepared pan. Bake at 350 degrees F (175 degrees C) for 30 minutes.  \n",
      "----------\n",
      "generated output #4\n",
      "---\n",
      " \n",
      "\n",
      " Ingredients: \n",
      " 1/2 cup butter, melted  \n",
      " 2 eggs, beaten  \n",
      " 1 (8.5 ounce) package dry corn bread mix  \n",
      " 1 (15 ounce) can whole kernel corn, drained  \n",
      " 1 (14.75 ounce) can creamed corn  \n",
      " 1 cup sour cream  \n",
      "  \n",
      " \n",
      " Instructions: \n",
      " Preheat oven to 350 degrees F (175 degrees C). Grease a 9x13-inch baking dish. In a large bowl, stir together the melted butter, eggs, and corn bread mix. In a separate bowl, mix together the cornbread mix, corn, sour cream, and 1/2 cup of the sour cream mixture. Fold the corn mixture into the egg mixture until well blended. Pour the batter into the prepared baking dish. Bake in the preheated oven until a toothpick inserted into the center of the casserole comes out clean, about 30 minutes.  \n"
     ]
    }
   ],
   "source": [
    "for i, output_sequence in enumerate(output_sequences):\n",
    "    result = tokenizer.decode(output_sequence)\n",
    "    result = result[:result.index(special_token)]\n",
    "    print('----------')\n",
    "    print(f'generated output #{i+1}')\n",
    "    print('---')\n",
    "    print(result)\n",
    "    "
   ]
  },
  {
   "cell_type": "code",
   "execution_count": null,
   "metadata": {},
   "outputs": [],
   "source": []
  }
 ],
 "metadata": {
  "kernelspec": {
   "display_name": "Python 3",
   "language": "python",
   "name": "python3"
  },
  "language_info": {
   "codemirror_mode": {
    "name": "ipython",
    "version": 3
   },
   "file_extension": ".py",
   "mimetype": "text/x-python",
   "name": "python",
   "nbconvert_exporter": "python",
   "pygments_lexer": "ipython3",
   "version": "3.6.9"
  }
 },
 "nbformat": 4,
 "nbformat_minor": 4
}
